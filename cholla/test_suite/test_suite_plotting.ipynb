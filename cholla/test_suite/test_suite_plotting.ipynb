{
 "cells": [
  {
   "cell_type": "code",
   "execution_count": 5,
   "id": "local-bulgarian",
   "metadata": {},
   "outputs": [
    {
     "name": "stdout",
     "output_type": "stream",
     "text": [
      "Populating the interactive namespace from numpy and matplotlib\n"
     ]
    }
   ],
   "source": [
    "# Cholla test suite plotting script\n",
    "import h5py\n",
    "import os\n",
    "import glob\n",
    "%pylab inline\n",
    "pylab.rcParams.update({'font.size': 18})\n",
    "pylab.rcParams.update({'font.family': 'serif'})\n",
    "pylab.rcParams.update({'mathtext.default':'regular'})\n",
    "pylab.rcParams.update({'mathtext.fontset':'stixsans'})\n",
    "pylab.rcParams.update({'axes.linewidth': 1.5})\n",
    "pylab.rcParams.update({'xtick.direction':'in'})\n",
    "pylab.rcParams.update({'xtick.major.size': 5})\n",
    "pylab.rcParams.update({'xtick.major.width': 1.25 })\n",
    "pylab.rcParams.update({'xtick.minor.size': 2.5})\n",
    "pylab.rcParams.update({'xtick.minor.width': 1.25 })\n",
    "pylab.rcParams.update({'ytick.direction':'in'})\n",
    "pylab.rcParams.update({'ytick.major.size': 5})\n",
    "pylab.rcParams.update({'ytick.major.width': 1.25 })\n",
    "pylab.rcParams.update({'ytick.minor.size': 2.5})\n",
    "pylab.rcParams.update({'ytick.minor.width': 1.25 })"
   ]
  },
  {
   "cell_type": "code",
   "execution_count": 6,
   "id": "challenging-parade",
   "metadata": {},
   "outputs": [],
   "source": [
    "tests = ['123', 'blast_1D', 'constant', 'creasey_shock', 'noh_1D', 'shu_osher', 'sod', 'sound_wave',\n",
    "         'square_wave', 'stationary', 'strong_shock', 'test_3', 'trac_pen', 'two_shocks']\n",
    "for test_i in tests:\n",
    "    dnamein = f\"./test_suite_output/{test_i}_output/\"\n",
    "    dnameout = f\"./test_suite_output/{test_i}_output/\"\n",
    "    n = len(glob.glob(os.path.join(dnamein, \"*.h5\")))\n",
    "    i_out = np.arange(0, n + 1)\n",
    "    DE = 0\n",
    "    for i in i_out:\n",
    "        f = h5py.File(dnamein + str(i) + \".h5\", \"r\")\n",
    "        head = f.attrs # Allows dictionary-style access to an HDF5 object's attributes.\n",
    "        nx = head[\"dims\"][0]\n",
    "        xrange = np.arange(0, nx + 1)\n",
    "        gamma = head[\"gamma\"][0]\n",
    "        d = np.array(f[\"density\"]) # mass density\n",
    "        mx = np.array(f[\"momentum_x\"]) # x-momentum\n",
    "        my = np.array(f[\"momentum_y\"]) # y-momentum\n",
    "        mz = np.array(f[\"momentum_z\"]) # z-momentum\n",
    "        E = np.array([f[\"Energy\"]]) # total energy density\n",
    "\n",
    "        vx = mx / d\n",
    "        vy = my / d\n",
    "        vz = mz / d\n",
    "\n",
    "        if DE:\n",
    "            e  = np.array(f['GasEnergy'])\n",
    "            p  = e*(gamma-1.0) # pressure\n",
    "            ge = e/d # internal energy\n",
    "        else: \n",
    "            p  = (E - 0.5*d*(vx*vx + vy*vy + vz*vz)) * (gamma - 1.0) # pressure\n",
    "            ge  = p/d/(gamma - 1.0) # internal energy\n",
    "\n",
    "        fig = plt.figure(figsize=(7, 7))\n",
    "        ax1 = plt.axes([0.1, 0.6, 0.35, 0.35])\n",
    "        ax1.plot(d, 'o', markersize=2, color='black')\n",
    "        plt.ylabel('Density', fontsize=14)\n",
    "        ax2 = plt.axes([0.6, 0.6, 0.35, 0.35])\n",
    "        ax2.plot(vx, 'o', markersize=2, color='black')\n",
    "        plt.ylabel('Velocity', fontsize=14)\n",
    "        ax3 = plt.axes([0.1, 0.1, 0.35, 0.35])\n",
    "        ax3.plot(p[0], 'o', markersize=2, color='black')\n",
    "        plt.ylabel('Pressure', fontsize=14)\n",
    "        ax4 = plt.axes([0.6, 0.1, 0.35, 0.35])\n",
    "        ax4.plot(ge[0], 'o', markersize=2, color='black')\n",
    "        plt.ylabel('Internal Energy', fontsize=14)\n",
    "        plt.suptitle(f\"Square Wave {i}\", y=1.02, fontsize=18)\n",
    "        plt.savefig(f\"{dnameout}/{test_i}_{i}.png\")\n",
    "        # plt.show()\n",
    "        plt.close('all')"
   ]
  },
  {
   "cell_type": "code",
   "execution_count": null,
   "id": "celtic-coaching",
   "metadata": {},
   "outputs": [],
   "source": []
  }
 ],
 "metadata": {
  "kernelspec": {
   "display_name": "Python 3",
   "language": "python",
   "name": "python3"
  },
  "language_info": {
   "codemirror_mode": {
    "name": "ipython",
    "version": 3
   },
   "file_extension": ".py",
   "mimetype": "text/x-python",
   "name": "python",
   "nbconvert_exporter": "python",
   "pygments_lexer": "ipython3",
   "version": "3.6.12"
  }
 },
 "nbformat": 4,
 "nbformat_minor": 5
}
